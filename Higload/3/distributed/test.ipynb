{
 "cells": [
  {
   "cell_type": "code",
   "execution_count": 18,
   "metadata": {},
   "outputs": [],
   "source": [
    "instances = [\n",
    "    \"http://localhost:8001/api/store/\",\n",
    "    \"http://localhost:8002/api/store/\",\n",
    "    # Добавьте больше инстансов, если нужно\n",
    "]\n",
    "def quorum_delete(key):\n",
    "    \"\"\"Удаление данных с кворумом.\"\"\"\n",
    "    responses = []\n",
    "    for instance in instances:\n",
    "        try:\n",
    "            response = requests.delete(f\"{instance}{key}/delete/\")  # Передаем параметр базы данных\n",
    "            responses.append(response)\n",
    "        except requests.exceptions.RequestException as e:\n",
    "            print(f\"Ошибка при удалении с {instance}: {e}\")\n",
    "\n",
    "    # Проверка, что большинство удалений успешны\n",
    "    successes = sum(1 for r in responses if r.status_code == 204)\n",
    "    return successes > len(responses) // 2\n",
    "\n",
    "def quorum_write(key, value):\n",
    "    \"\"\"Запись данных с кворумом.\"\"\"\n",
    "    responses = []\n",
    "    for instance in instances:\n",
    "        try:\n",
    "            response = requests.post(instance, json={\"key\": key, \"value\": value})  # Передаем параметр базы данных\n",
    "            responses.append(response)\n",
    "        except requests.exceptions.RequestException as e:\n",
    "            print(f\"Ошибка при записи на {instance}: {e}\")\n",
    "\n",
    "    # Проверка, что большинство записей успешны\n",
    "    successes = sum(1 for r in responses if r.status_code == 201)\n",
    "    return successes > len(responses) // 2\n",
    "\n",
    "def quorum_read(key):\n",
    "    \"\"\"Чтение данных с кворумом.\"\"\"\n",
    "    values = []\n",
    "    for instance in instances:\n",
    "        try:\n",
    "            response = requests.get(f\"{instance}{key}\")  # Передаем параметр базы данных\n",
    "            if response.status_code == 200:\n",
    "                values.append(response.json().get('value'))\n",
    "        except requests.exceptions.RequestException as e:\n",
    "            print(f\"Ошибка при чтении с {instance}: {e}\")"
   ]
  },
  {
   "cell_type": "code",
   "execution_count": 20,
   "metadata": {},
   "outputs": [
    {
     "name": "stdout",
     "output_type": "stream",
     "text": [
      "Удаление данных для ключа: example_key\n",
      "Ошибка удаления данных с кворумом или данные не существовали.\n",
      "Запись данных: example_key = example_value\n",
      "Данные успешно записаны с кворумом.\n",
      "Чтение данных для ключа: example_key\n",
      "Ошибка чтения данных.\n"
     ]
    }
   ],
   "source": [
    "import time\n",
    "\n",
    "key = \"example_key\"\n",
    "value = \"example_value\"\n",
    "\n",
    "print(f\"Удаление данных для ключа: {key}\")\n",
    "if quorum_delete(key):\n",
    "    print(\"Данные успешно удалены с кворумом.\")\n",
    "else:\n",
    "    print(\"Ошибка удаления данных с кворумом или данные не существовали.\")\n",
    "\n",
    "print(f\"Запись данных: {key} = {value}\")\n",
    "if quorum_write(key, value):\n",
    "    print(\"Данные успешно записаны с кворумом.\")\n",
    "else:\n",
    "    print(\"Ошибка записи данных с кворумом.\")\n",
    "\n",
    "# Подождите некоторое время, чтобы убедиться, что данные успели записаться\n",
    "time.sleep(2)\n",
    "\n",
    "print(f\"Чтение данных для ключа: {key}\")\n",
    "read_value = quorum_read(key)\n",
    "if read_value is not None:\n",
    "    print(f\"Успешно прочитано: {key} = {read_value}\")\n",
    "else:\n",
    "    print(\"Ошибка чтения данных.\")"
   ]
  }
 ],
 "metadata": {
  "kernelspec": {
   "display_name": "venv",
   "language": "python",
   "name": "python3"
  },
  "language_info": {
   "codemirror_mode": {
    "name": "ipython",
    "version": 3
   },
   "file_extension": ".py",
   "mimetype": "text/x-python",
   "name": "python",
   "nbconvert_exporter": "python",
   "pygments_lexer": "ipython3",
   "version": "3.10.2"
  }
 },
 "nbformat": 4,
 "nbformat_minor": 2
}

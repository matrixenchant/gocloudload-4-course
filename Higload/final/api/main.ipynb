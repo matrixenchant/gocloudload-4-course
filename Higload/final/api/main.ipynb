{
 "cells": [
  {
   "cell_type": "code",
   "execution_count": 2,
   "metadata": {},
   "outputs": [
    {
     "name": "stdout",
     "output_type": "stream",
     "text": [
      "Processing file: ./src/modules\\cart-items\\cart-item.entity.ts\n",
      "Processing file: ./src/modules\\categories\\category.entity.ts\n",
      "Processing file: ./src/modules\\order-items\\orderItem.entity.ts\n",
      "Processing file: ./src/modules\\orders\\order.entity.ts\n",
      "Processing file: ./src/modules\\payments\\payment.entity.ts\n",
      "Processing file: ./src/modules\\products\\product.entity.ts\n",
      "Processing file: ./src/modules\\reviews\\review.entity.ts\n",
      "Processing file: ./src/modules\\shopping-carts\\shopping-cart.entity.ts\n",
      "Processing file: ./src/modules\\users\\user.entity.ts\n",
      "Processing file: ./src/modules\\wishlist-items\\wishlistItem.entity.ts\n",
      "Processing file: ./src/modules\\wishlists\\wishlist.entity.ts\n",
      "Merged 11 files into merged_entities.txt\n"
     ]
    }
   ],
   "source": [
    "import glob\n",
    "import os\n",
    "\n",
    "def merge_entity_files(output_file: str):\n",
    "    # Путь для поиска файлов\n",
    "    search_path = './src/modules/**/*.entity.ts'\n",
    "\n",
    "    # Используем glob для поиска всех файлов, соответствующих шаблону\n",
    "    files = glob.glob(search_path, recursive=True)\n",
    "\n",
    "    if not files:\n",
    "        print(\"No files found matching the pattern.\")\n",
    "        return\n",
    "\n",
    "    # Открываем выходной файл\n",
    "    with open(output_file, 'w', encoding='utf-8') as outfile:\n",
    "        for file in files:\n",
    "            print(f\"Processing file: {file}\")\n",
    "\n",
    "            # Открываем каждый файл и записываем его содержимое в выходной файл\n",
    "            with open(file, 'r', encoding='utf-8') as infile:\n",
    "                outfile.write(infile.read())\n",
    "                outfile.write(\"\\n\")  # Добавляем перенос строки между файлами\n",
    "\n",
    "    print(f\"Merged {len(files)} files into {output_file}\")\n",
    "\n",
    "# Имя итогового файла\n",
    "output_file = 'merged_entities.txt'\n",
    "\n",
    "# Запуск функции\n",
    "merge_entity_files(output_file)"
   ]
  }
 ],
 "metadata": {
  "kernelspec": {
   "display_name": "Python 3",
   "language": "python",
   "name": "python3"
  },
  "language_info": {
   "codemirror_mode": {
    "name": "ipython",
    "version": 3
   },
   "file_extension": ".py",
   "mimetype": "text/x-python",
   "name": "python",
   "nbconvert_exporter": "python",
   "pygments_lexer": "ipython3",
   "version": "3.10.2"
  }
 },
 "nbformat": 4,
 "nbformat_minor": 2
}
